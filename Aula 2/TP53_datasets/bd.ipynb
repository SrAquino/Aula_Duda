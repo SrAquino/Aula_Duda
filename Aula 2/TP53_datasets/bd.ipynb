{
 "cells": [
  {
   "cell_type": "code",
   "execution_count": 3,
   "metadata": {},
   "outputs": [
    {
     "ename": "OperationalError",
     "evalue": "table Clientes already exists",
     "output_type": "error",
     "traceback": [
      "\u001b[0;31m---------------------------------------------------------------------------\u001b[0m",
      "\u001b[0;31mOperationalError\u001b[0m                          Traceback (most recent call last)",
      "Cell \u001b[0;32mIn[3], line 10\u001b[0m\n\u001b[1;32m      6\u001b[0m cur \u001b[38;5;241m=\u001b[39m con\u001b[38;5;241m.\u001b[39mcursor()\n\u001b[1;32m      7\u001b[0m \u001b[38;5;66;03m#É utilizado para navegar e manipular os resultados de consultas em bd\u001b[39;00m\n\u001b[1;32m      8\u001b[0m \n\u001b[1;32m      9\u001b[0m \u001b[38;5;66;03m# Cria uma tablea simples\u001b[39;00m\n\u001b[0;32m---> 10\u001b[0m cur\u001b[38;5;241m.\u001b[39mexecute(\u001b[38;5;124m\"\"\"\u001b[39m\n\u001b[1;32m     11\u001b[0m \u001b[38;5;124m            CREATE TABLE Clientes (\u001b[39m\n\u001b[1;32m     12\u001b[0m \u001b[38;5;124m                ID_Cliente INTEGER PRIMARY KEY AUTOINCREMENT,\u001b[39m\n\u001b[1;32m     13\u001b[0m \u001b[38;5;124m                Nome TEXT NOT NULL,\u001b[39m\n\u001b[1;32m     14\u001b[0m \u001b[38;5;124m                Cidade TEXT NOT NULL\u001b[39m\n\u001b[1;32m     15\u001b[0m \u001b[38;5;124m);\u001b[39m\n\u001b[1;32m     16\u001b[0m \u001b[38;5;124m\"\"\"\u001b[39m)\n\u001b[1;32m     18\u001b[0m cur\u001b[38;5;241m.\u001b[39mexecute(\u001b[38;5;124m\"\u001b[39m\u001b[38;5;124mINSERT INTO Clientes (Nome, Cidade) VALUES (\u001b[39m\u001b[38;5;124m'\u001b[39m\u001b[38;5;124mJoão Silva\u001b[39m\u001b[38;5;124m'\u001b[39m\u001b[38;5;124m, \u001b[39m\u001b[38;5;124m'\u001b[39m\u001b[38;5;124mSão Paulo\u001b[39m\u001b[38;5;124m'\u001b[39m\u001b[38;5;124m);\u001b[39m\u001b[38;5;124m\"\u001b[39m)\n\u001b[1;32m     19\u001b[0m cur\u001b[38;5;241m.\u001b[39mexecute(\u001b[38;5;124m\"\u001b[39m\u001b[38;5;124mINSERT INTO Clientes (Nome, Cidade) VALUES (\u001b[39m\u001b[38;5;124m'\u001b[39m\u001b[38;5;124mMaria Souza\u001b[39m\u001b[38;5;124m'\u001b[39m\u001b[38;5;124m, \u001b[39m\u001b[38;5;124m'\u001b[39m\u001b[38;5;124mRio de Janeiro\u001b[39m\u001b[38;5;124m'\u001b[39m\u001b[38;5;124m);\u001b[39m\u001b[38;5;124m\"\u001b[39m)\n",
      "\u001b[0;31mOperationalError\u001b[0m: table Clientes already exists"
     ]
    }
   ],
   "source": [
    "\n",
    "import sqlite3\n",
    "con = sqlite3.connect('professores.db') #Caso o bd não exista, é criado, caso exista, é selecionado.\n",
    "#conn de conector\n",
    "\n",
    "#Cria um objeto cursor\n",
    "cur = con.cursor()\n",
    "#É utilizado para navegar e manipular os resultados de consultas em bd\n",
    "\n",
    "# Cria uma tablea simples\n",
    "cur.execute(\"\"\"\n",
    "            CREATE TABLE Clientes (\n",
    "                ID_Cliente INTEGER PRIMARY KEY AUTOINCREMENT,\n",
    "                Nome TEXT NOT NULL,\n",
    "                Cidade TEXT NOT NULL\n",
    ");\n",
    "\"\"\")\n"
   ]
  },
  {
   "cell_type": "code",
   "execution_count": 4,
   "metadata": {},
   "outputs": [
    {
     "data": {
      "text/plain": [
       "<sqlite3.Cursor at 0x71b30d936bc0>"
      ]
     },
     "execution_count": 4,
     "metadata": {},
     "output_type": "execute_result"
    }
   ],
   "source": [
    "cur.execute(\"INSERT INTO Clientes (Nome, Cidade) VALUES ('João Silva', 'São Paulo');\")\n",
    "cur.execute(\"INSERT INTO Clientes (Nome, Cidade) VALUES ('Maria Souza', 'Rio de Janeiro');\")\n",
    "cur.execute(\"INSERT INTO Clientes (Nome, Cidade) VALUES ('Pedro Santos', 'São Paulo');\")\n",
    "cur.execute(\"INSERT INTO Clientes (Nome, Cidade) VALUES ('Ana Costa', 'Rio de Janeiro');\")\n",
    "cur.execute(\"INSERT INTO Clientes (Nome, Cidade) VALUES ('Carlos Lima', 'Belo Horizonte');\")\n",
    "cur.execute(\"INSERT INTO Clientes (Nome, Cidade) VALUES ('Paula Nunes', 'São Paulo');\")\n",
    "\n",
    "con.commit()"
   ]
  },
  {
   "cell_type": "code",
   "execution_count": 6,
   "metadata": {},
   "outputs": [
    {
     "data": {
      "text/plain": [
       "[('Belo Horizonte', 1), ('Rio de Janeiro', 2), ('São Paulo', 3)]"
      ]
     },
     "execution_count": 6,
     "metadata": {},
     "output_type": "execute_result"
    }
   ],
   "source": [
    "res = cur.execute(\"\"\"\n",
    "            SELECT Cidade, COUNT(*) AS Total_Clientes\n",
    "            FROM Clientes\n",
    "            GROUP BY Cidade;\"\"\")\n",
    "\n",
    "res.fetchall()"
   ]
  },
  {
   "cell_type": "code",
   "execution_count": 10,
   "metadata": {},
   "outputs": [
    {
     "data": {
      "text/plain": [
       "<sqlite3.Cursor at 0x71b30d936bc0>"
      ]
     },
     "execution_count": 10,
     "metadata": {},
     "output_type": "execute_result"
    }
   ],
   "source": [
    "cur.execute(\"\"\"\n",
    "    CREATE TABLE Pedidos (\n",
    "    ID_Pedido INTEGER PRIMARY KEY AUTOINCREMENT,\n",
    "    ID_Cliente INTEGER,\n",
    "    Total_Pedido REAL,\n",
    "    Data_Pedido TEXT,\n",
    "    FOREIGN KEY (ID_Cliente) REFERENCES Clientes(ID_Cliente));\"\"\"\n",
    ")"
   ]
  },
  {
   "cell_type": "code",
   "execution_count": 15,
   "metadata": {},
   "outputs": [],
   "source": [
    "dados_pedidos = [\n",
    "    (1, 150.75, '2024-08-01'),\n",
    "    (2, 250.00, '2024-08-03'),\n",
    "    (1, 99.99, '2024-08-05'),\n",
    "    (2, 175.50, '2024-08-10'),\n",
    "    (4, 300.00, '2024-08-12'),\n",
    "    (4, 45.99, '2024-08-15'),\n",
    "    (5, 129.99, '2024-08-18')\n",
    "]\n",
    "\n",
    "cur.executemany(\"INSERT INTO Pedidos (ID_Cliente, Total_Pedido, Data_Pedido) VALUES (?, ?, ?)\", dados_pedidos)\n",
    "\n",
    "con.commit()"
   ]
  },
  {
   "cell_type": "code",
   "execution_count": 16,
   "metadata": {},
   "outputs": [
    {
     "data": {
      "text/plain": [
       "[(1, 501.48),\n",
       " (2, 675.5),\n",
       " (3, 175.5),\n",
       " (4, 645.99),\n",
       " (5, 175.98000000000002),\n",
       " (6, 129.99)]"
      ]
     },
     "execution_count": 16,
     "metadata": {},
     "output_type": "execute_result"
    }
   ],
   "source": [
    "res = cur.execute(\"\"\"\n",
    "            SELECT ID_Cliente, SUM(Total_Pedido) AS Total_Gasto\n",
    "            FROM Pedidos\n",
    "            GROUP BY ID_Cliente;\"\"\")\n",
    "\n",
    "res.fetchall()"
   ]
  },
  {
   "cell_type": "code",
   "execution_count": 17,
   "metadata": {},
   "outputs": [
    {
     "data": {
      "text/plain": [
       "[(1, 125.37),\n",
       " (2, 225.16666666666666),\n",
       " (3, 175.5),\n",
       " (4, 215.33),\n",
       " (5, 87.99000000000001),\n",
       " (6, 129.99)]"
      ]
     },
     "execution_count": 17,
     "metadata": {},
     "output_type": "execute_result"
    }
   ],
   "source": [
    "res = cur.execute(\"\"\"\n",
    "            SELECT ID_Cliente, AVG(Total_Pedido) AS Media_Pedido\n",
    "            FROM Pedidos\n",
    "            GROUP BY ID_Cliente;\n",
    "\"\"\")\n",
    "res.fetchall()"
   ]
  }
 ],
 "metadata": {
  "kernelspec": {
   "display_name": "base",
   "language": "python",
   "name": "python3"
  },
  "language_info": {
   "codemirror_mode": {
    "name": "ipython",
    "version": 3
   },
   "file_extension": ".py",
   "mimetype": "text/x-python",
   "name": "python",
   "nbconvert_exporter": "python",
   "pygments_lexer": "ipython3",
   "version": "3.12.4"
  }
 },
 "nbformat": 4,
 "nbformat_minor": 2
}
