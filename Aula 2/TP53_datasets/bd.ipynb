{
 "cells": [
  {
   "cell_type": "code",
   "execution_count": 2,
   "metadata": {},
   "outputs": [
    {
     "data": {
      "text/plain": [
       "<sqlite3.Cursor at 0x757ad17b68c0>"
      ]
     },
     "execution_count": 2,
     "metadata": {},
     "output_type": "execute_result"
    }
   ],
   "source": [
    "\n",
    "import sqlite3\n",
    "con = sqlite3.connect('professores.db') #Caso o bd não exista, é criado, caso exista, é selecionado.\n",
    "#conn de conector\n",
    "\n",
    "#Cria um objeto cursor\n",
    "cur = con.cursor()\n",
    "#É utilizado para navegar e manipular os resultados de consultas em bd\n",
    "\n",
    "# Cria uma tablea simples\n",
    "cur.execute(\"\"\"\n",
    "            CREATE TABLE Clientes (\n",
    "                ID_Cliente INTEGER PRIMARY KEY AUTOINCREMENT,\n",
    "                Nome TEXT NOT NULL,\n",
    "                Cidade TEXT NOT NULL\n",
    ");\n",
    "\"\"\")\n"
   ]
  },
  {
   "cell_type": "code",
   "execution_count": 3,
   "metadata": {},
   "outputs": [],
   "source": [
    "cur.execute(\"INSERT INTO Clientes (Nome, Cidade) VALUES ('João Silva', 'São Paulo');\")\n",
    "cur.execute(\"INSERT INTO Clientes (Nome, Cidade) VALUES ('Maria Souza', 'Rio de Janeiro');\")\n",
    "cur.execute(\"INSERT INTO Clientes (Nome, Cidade) VALUES ('Pedro Santos', 'São Paulo');\")\n",
    "cur.execute(\"INSERT INTO Clientes (Nome, Cidade) VALUES ('Ana Costa', 'Rio de Janeiro');\")\n",
    "cur.execute(\"INSERT INTO Clientes (Nome, Cidade) VALUES ('Carlos Lima', 'Belo Horizonte');\")\n",
    "cur.execute(\"INSERT INTO Clientes (Nome, Cidade) VALUES ('Paula Nunes', 'São Paulo');\")\n",
    "\n",
    "con.commit()"
   ]
  },
  {
   "cell_type": "code",
   "execution_count": 4,
   "metadata": {},
   "outputs": [
    {
     "ename": "IntegrityError",
     "evalue": "NOT NULL constraint failed: Clientes.Cidade",
     "output_type": "error",
     "traceback": [
      "\u001b[0;31m---------------------------------------------------------------------------\u001b[0m",
      "\u001b[0;31mIntegrityError\u001b[0m                            Traceback (most recent call last)",
      "Cell \u001b[0;32mIn[4], line 1\u001b[0m\n\u001b[0;32m----> 1\u001b[0m cur\u001b[38;5;241m.\u001b[39mexecute(\u001b[38;5;124m\"\u001b[39m\u001b[38;5;124mINSERT INTO Clientes (Nome) VALUES (\u001b[39m\u001b[38;5;124m'\u001b[39m\u001b[38;5;124mPaula Nunes\u001b[39m\u001b[38;5;124m'\u001b[39m\u001b[38;5;124m);\u001b[39m\u001b[38;5;124m\"\u001b[39m)\n",
      "\u001b[0;31mIntegrityError\u001b[0m: NOT NULL constraint failed: Clientes.Cidade"
     ]
    }
   ],
   "source": [
    "cur.execute(\"INSERT INTO Clientes (Nome) VALUES ('Paula Nunes');\")"
   ]
  },
  {
   "cell_type": "code",
   "execution_count": 5,
   "metadata": {},
   "outputs": [
    {
     "data": {
      "text/plain": [
       "[('Belo Horizonte', 1), ('Rio de Janeiro', 2), ('São Paulo', 3)]"
      ]
     },
     "execution_count": 5,
     "metadata": {},
     "output_type": "execute_result"
    }
   ],
   "source": [
    "res = cur.execute(\"\"\"\n",
    "            SELECT Cidade, COUNT(*) AS Total_Clientes\n",
    "            FROM Clientes\n",
    "            GROUP BY Cidade;\"\"\")\n",
    "\n",
    "res.fetchall()"
   ]
  },
  {
   "cell_type": "code",
   "execution_count": 6,
   "metadata": {},
   "outputs": [
    {
     "data": {
      "text/plain": [
       "<sqlite3.Cursor at 0x757ad17b68c0>"
      ]
     },
     "execution_count": 6,
     "metadata": {},
     "output_type": "execute_result"
    }
   ],
   "source": [
    "cur.execute(\"\"\"\n",
    "    CREATE TABLE Pedidos (\n",
    "    ID_Pedido INTEGER PRIMARY KEY AUTOINCREMENT,\n",
    "    ID_Cliente INTEGER,\n",
    "    Total_Pedido REAL,\n",
    "    Data_Pedido TEXT,\n",
    "    FOREIGN KEY (ID_Cliente) REFERENCES Clientes(ID_Cliente));\"\"\"\n",
    ")"
   ]
  },
  {
   "cell_type": "code",
   "execution_count": 8,
   "metadata": {},
   "outputs": [],
   "source": [
    "dados_pedidos = [\n",
    "    (1, 150.75, '2024-08-01'),\n",
    "    (2, 250.00, '2024-08-03'),\n",
    "    (1, 99.99, '2024-08-05'),\n",
    "    (2, 175.50, '2024-08-10'),\n",
    "    (4, 300.00, '2024-08-12'),\n",
    "    (4, 45.99, '2024-08-15'),\n",
    "    (5, 129.99, '2024-08-18')\n",
    "]\n",
    "\n",
    "cur.executemany(\"INSERT INTO Pedidos (ID_Cliente, Total_Pedido, Data_Pedido) VALUES (?, ?, ?)\", dados_pedidos)\n",
    "\n",
    "con.commit()"
   ]
  },
  {
   "cell_type": "code",
   "execution_count": 9,
   "metadata": {},
   "outputs": [
    {
     "data": {
      "text/plain": [
       "[(1, 250.74), (2, 425.5), (4, 345.99), (5, 129.99)]"
      ]
     },
     "execution_count": 9,
     "metadata": {},
     "output_type": "execute_result"
    }
   ],
   "source": [
    "res = cur.execute(\"\"\"\n",
    "            SELECT ID_Cliente, SUM(Total_Pedido) AS Total_Gasto\n",
    "            FROM Pedidos\n",
    "            GROUP BY ID_Cliente;\"\"\")\n",
    "\n",
    "res.fetchall()"
   ]
  },
  {
   "cell_type": "code",
   "execution_count": 17,
   "metadata": {},
   "outputs": [
    {
     "data": {
      "text/plain": [
       "[(1, 125.37),\n",
       " (2, 225.16666666666666),\n",
       " (3, 175.5),\n",
       " (4, 215.33),\n",
       " (5, 87.99000000000001),\n",
       " (6, 129.99)]"
      ]
     },
     "execution_count": 17,
     "metadata": {},
     "output_type": "execute_result"
    }
   ],
   "source": [
    "res = cur.execute(\"\"\"\n",
    "            SELECT ID_Cliente, AVG(Total_Pedido) AS Media_Pedido\n",
    "            FROM Pedidos\n",
    "            GROUP BY ID_Cliente;\n",
    "\"\"\")\n",
    "res.fetchall()"
   ]
  }
 ],
 "metadata": {
  "kernelspec": {
   "display_name": "base",
   "language": "python",
   "name": "python3"
  },
  "language_info": {
   "codemirror_mode": {
    "name": "ipython",
    "version": 3
   },
   "file_extension": ".py",
   "mimetype": "text/x-python",
   "name": "python",
   "nbconvert_exporter": "python",
   "pygments_lexer": "ipython3",
   "version": "3.12.4"
  }
 },
 "nbformat": 4,
 "nbformat_minor": 2
}
