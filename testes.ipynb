{
 "cells": [
  {
   "cell_type": "code",
   "execution_count": 27,
   "metadata": {},
   "outputs": [],
   "source": [
    "#Cria o banco de dados e/ou inicia uma conexão\n",
    "\n",
    "import sqlite3\n",
    "con = sqlite3.connect('professores.db') #Caso o bd não exista, é criado, caso exista, é selecionado.\n",
    "#conn de conector"
   ]
  },
  {
   "cell_type": "code",
   "execution_count": 28,
   "metadata": {},
   "outputs": [],
   "source": [
    "#Cria um objeto cursor\n",
    "cur = con.cursor()\n",
    "#É utilizado para navegar e manipular os resultados de consultas em bd"
   ]
  },
  {
   "cell_type": "code",
   "execution_count": 5,
   "metadata": {},
   "outputs": [
    {
     "data": {
      "text/plain": [
       "<sqlite3.Cursor at 0x7d097ff8ddc0>"
      ]
     },
     "execution_count": 5,
     "metadata": {},
     "output_type": "execute_result"
    }
   ],
   "source": [
    "# Cria uma tablea simples\n",
    "cur.execute(\"CREATE TABLE aulas(titulo, data, duracao)\")"
   ]
  },
  {
   "cell_type": "code",
   "execution_count": 6,
   "metadata": {},
   "outputs": [
    {
     "data": {
      "text/plain": [
       "[('aulas',)]"
      ]
     },
     "execution_count": 6,
     "metadata": {},
     "output_type": "execute_result"
    }
   ],
   "source": [
    "# Apenas para verificar se a tabela foi criada corretamente\n",
    "res = cur.execute(\"SELECT name FROM sqlite_master\")\n",
    "# res de resposta, recebe a seleção dos nomes das tabelas do master do sqlite (mostra tudo que tem no bd)\n",
    "res.fetchall()\n",
    "# fetch 'all' retorna todos 'one' retorna o primeiro"
   ]
  },
  {
   "cell_type": "code",
   "execution_count": 7,
   "metadata": {},
   "outputs": [],
   "source": [
    "# Agora  vamos adicionar linhas na tabela\n",
    "cur.execute(\"\"\"\n",
    "    INSERT INTO aulas VALUES\n",
    "        ('Aula 1', '01/01/2001', 50),\n",
    "        ('Aula 2', '02/02/2002', 100)\n",
    "\"\"\")# as \"\"\" servem para poder digitar em multiplas linhas\n",
    "# Não é nescessário especificar as colunas SE passar os VALUES por completo e na mesma ordem de quando foram criadas\n",
    "con.commit()\n",
    "# Como houve alteração na estrutura do db, é necessário \"commitar\" ou confirmar a execução"
   ]
  },
  {
   "cell_type": "code",
   "execution_count": 11,
   "metadata": {},
   "outputs": [
    {
     "data": {
      "text/plain": [
       "[(50,), (100,)]"
      ]
     },
     "execution_count": 11,
     "metadata": {},
     "output_type": "execute_result"
    }
   ],
   "source": [
    "res = cur.execute(\"SELECT titulo FROM aulas\")\n",
    "res.fetchall()"
   ]
  },
  {
   "cell_type": "code",
   "execution_count": 12,
   "metadata": {},
   "outputs": [
    {
     "data": {
      "text/plain": [
       "<sqlite3.Cursor at 0x7d097ff8ddc0>"
      ]
     },
     "execution_count": 12,
     "metadata": {},
     "output_type": "execute_result"
    }
   ],
   "source": [
    "#Cria uma tabela chamada professor com duas colunas: id_professor e nm_professor \n",
    "cur.execute(\"\"\"\n",
    "\n",
    "CREATE TABLE professor (\n",
    "    id_professor INTEGER PRIMARY KEY AUTOINCREMENT,\n",
    "    nm_professor VARCHAR(100) NOT NULL\n",
    ")\n",
    "\n",
    "\"\"\")"
   ]
  },
  {
   "cell_type": "code",
   "execution_count": 14,
   "metadata": {},
   "outputs": [
    {
     "data": {
      "text/plain": [
       "[('aulas',), ('professor',), ('sqlite_sequence',)]"
      ]
     },
     "execution_count": 14,
     "metadata": {},
     "output_type": "execute_result"
    }
   ],
   "source": [
    "#Cria uma variável res (de resposta) que procura as tabelas no banco de dados e retorna a primeira que achar\n",
    "res = cur.execute(\"SELECT name FROM sqlite_master\")\n",
    "res.fetchall()"
   ]
  },
  {
   "cell_type": "code",
   "execution_count": 16,
   "metadata": {},
   "outputs": [
    {
     "data": {
      "text/plain": [
       "[('Aula 1',),\n",
       " ('Aula 2',),\n",
       " ('Evento 1',),\n",
       " ('Evento 2',),\n",
       " ('Evento 3',),\n",
       " ('Evento 1',),\n",
       " ('Evento 2',),\n",
       " ('Evento 3',)]"
      ]
     },
     "execution_count": 16,
     "metadata": {},
     "output_type": "execute_result"
    }
   ],
   "source": [
    "dados_aulas = [\n",
    "    (\"Evento 1\", '03/03/2003', 250),\n",
    "    (\"Evento 2\", '03/03/2003', 250),\n",
    "    (\"Evento 3\", '03/03/2003', 250)\n",
    "]\n",
    "\n",
    "cur.executemany(\"INSERT INTO aulas (titulo, data, duracao) VALUES (?, ?, ?)\", dados_aulas)\n",
    "\n",
    "con.commit()\n",
    "\n",
    "res = cur.execute(\"SELECT titulo FROM aulas\")\n",
    "res.fetchall()"
   ]
  },
  {
   "cell_type": "code",
   "execution_count": 29,
   "metadata": {},
   "outputs": [
    {
     "name": "stdout",
     "output_type": "stream",
     "text": [
      "(50, 'Aula 1')\n",
      "(100, 'Aula 2')\n",
      "(250, 'Evento 1')\n",
      "(250, 'Evento 2')\n",
      "(250, 'Evento 3')\n",
      "(250, 'Evento 1')\n",
      "(250, 'Evento 2')\n",
      "(250, 'Evento 3')\n"
     ]
    }
   ],
   "source": [
    "# Outra forma de verificar os dados inseridos:\n",
    "\n",
    "for l in cur.execute(\"\"\"SELECT duracao, titulo \n",
    "                     FROM aulas \n",
    "                     ORDER BY duracao\"\"\"):\n",
    "    print(l)"
   ]
  },
  {
   "cell_type": "code",
   "execution_count": 22,
   "metadata": {},
   "outputs": [
    {
     "name": "stdout",
     "output_type": "stream",
     "text": [
      "('Professor 1', 1)\n",
      "('Professor 2', 2)\n",
      "('Professor 3', 3)\n",
      "('Professor 4', 4)\n",
      "('Professor 5', 5)\n",
      "('Professor 6', 6)\n",
      "('Professor 7', 7)\n",
      "('Professor 8', 8)\n",
      "('Professor 9', 9)\n",
      "('Professor 10', 10)\n",
      "('Professor 1', 11)\n",
      "('Professor 2', 12)\n",
      "('Professor 3', 13)\n",
      "('Professor 4', 14)\n",
      "('Professor 5', 15)\n",
      "('Professor 6', 16)\n",
      "('Professor 7', 17)\n",
      "('Professor 8', 18)\n",
      "('Professor 9', 19)\n",
      "('Professor 10', 20)\n",
      "('Professor 1', 21)\n",
      "('Professor 2', 22)\n",
      "('Professor 3', 23)\n",
      "('Professor 4', 24)\n",
      "('Professor 5', 25)\n",
      "('Professor 6', 26)\n",
      "('Professor 7', 27)\n",
      "('Professor 8', 28)\n",
      "('Professor 9', 29)\n",
      "('Professor 10', 30)\n"
     ]
    }
   ],
   "source": [
    "try:\n",
    "    with con:\n",
    "        for i in range(10):\n",
    "            cur.execute(\"\"\"\n",
    "                INSERT INTO professor (nm_professor) VALUES ('Professor {}');\n",
    "                \"\"\".format(i+1))\n",
    "except sqlite3.ProgrammingError as e:\n",
    "    print(\"Deu ruim: \", e)\n",
    "\n",
    "#con.commit()\n",
    "\n",
    "for l in cur.execute(\"SELECT nm_professor, id_professor FROM professor ORDER BY id_professor\"):\n",
    "    print(l)"
   ]
  },
  {
   "cell_type": "code",
   "execution_count": 23,
   "metadata": {},
   "outputs": [],
   "source": [
    "con.close()"
   ]
  }
 ],
 "metadata": {
  "kernelspec": {
   "display_name": "base",
   "language": "python",
   "name": "python3"
  },
  "language_info": {
   "codemirror_mode": {
    "name": "ipython",
    "version": 3
   },
   "file_extension": ".py",
   "mimetype": "text/x-python",
   "name": "python",
   "nbconvert_exporter": "python",
   "pygments_lexer": "ipython3",
   "version": "3.12.4"
  }
 },
 "nbformat": 4,
 "nbformat_minor": 2
}
