{
 "cells": [
  {
   "cell_type": "code",
   "execution_count": 1,
   "metadata": {},
   "outputs": [],
   "source": [
    "#Cria o banco de dados e/ou inicia uma conexão\n",
    "\n",
    "import sqlite3\n",
    "con = sqlite3.connect('professores.db') #Caso o bd não exista, é criado, caso exista, é selecionado.\n",
    "#conn de conector"
   ]
  },
  {
   "cell_type": "code",
   "execution_count": 2,
   "metadata": {},
   "outputs": [],
   "source": [
    "#Cria um objeto cursor\n",
    "cur = con.cursor()\n",
    "#É utilizado para navegar e manipular os resultados de consultas em bd"
   ]
  },
  {
   "cell_type": "code",
   "execution_count": 3,
   "metadata": {},
   "outputs": [
    {
     "data": {
      "text/plain": [
       "<sqlite3.Cursor at 0x7610c4f55a40>"
      ]
     },
     "execution_count": 3,
     "metadata": {},
     "output_type": "execute_result"
    }
   ],
   "source": [
    "# Cria uma tablea simples\n",
    "cur.execute(\"CREATE TABLE aulas(titulo, data, duracao)\")"
   ]
  },
  {
   "cell_type": "code",
   "execution_count": 4,
   "metadata": {},
   "outputs": [
    {
     "data": {
      "text/plain": [
       "[('aulas',)]"
      ]
     },
     "execution_count": 4,
     "metadata": {},
     "output_type": "execute_result"
    }
   ],
   "source": [
    "# Apenas para verificar se a tabela foi criada corretamente\n",
    "res = cur.execute(\"SELECT name FROM sqlite_master\")\n",
    "# res de resposta, recebe a seleção dos nomes das tabelas do master do sqlite (mostra tudo que tem no bd)\n",
    "res.fetchall()\n",
    "# fetch 'all' retorna todos 'one' retorna o primeiro"
   ]
  },
  {
   "cell_type": "code",
   "execution_count": 5,
   "metadata": {},
   "outputs": [],
   "source": [
    "# Agora  vamos adicionar linhas na tabela\n",
    "cur.execute(\"\"\"\n",
    "    INSERT INTO aulas VALUES\n",
    "        ('Aula 1', '01/01/2001', 50),\n",
    "        ('Aula 2', '02/02/2002', 100)\n",
    "\"\"\")# as \"\"\" servem para poder digitar em multiplas linhas\n",
    "# Não é nescessário especificar as colunas SE passar os VALUES por completo e na mesma ordem de quando foram criadas\n",
    "con.commit()\n",
    "# Como houve alteração na estrutura do db, é necessário \"commitar\" ou confirmar a execução"
   ]
  },
  {
   "cell_type": "code",
   "execution_count": 6,
   "metadata": {},
   "outputs": [
    {
     "data": {
      "text/plain": [
       "[('Aula 1',), ('Aula 2',)]"
      ]
     },
     "execution_count": 6,
     "metadata": {},
     "output_type": "execute_result"
    }
   ],
   "source": [
    "res = cur.execute(\"SELECT titulo FROM aulas\")\n",
    "res.fetchall()"
   ]
  },
  {
   "cell_type": "code",
   "execution_count": 7,
   "metadata": {},
   "outputs": [
    {
     "data": {
      "text/plain": [
       "<sqlite3.Cursor at 0x73053ef55a40>"
      ]
     },
     "execution_count": 7,
     "metadata": {},
     "output_type": "execute_result"
    }
   ],
   "source": [
    "#Cria uma tabela chamada professor com duas colunas: id_professor e nm_professor \n",
    "cur.execute(\"\"\"\n",
    "\n",
    "CREATE TABLE professor (\n",
    "    id_professor INTEGER PRIMARY KEY AUTOINCREMENT,\n",
    "    nm_professor VARCHAR(100) NOT NULL\n",
    ")\n",
    "\n",
    "\"\"\")"
   ]
  },
  {
   "cell_type": "code",
   "execution_count": 14,
   "metadata": {},
   "outputs": [
    {
     "data": {
      "text/plain": [
       "[('aulas',), ('professor',), ('sqlite_sequence',)]"
      ]
     },
     "execution_count": 14,
     "metadata": {},
     "output_type": "execute_result"
    }
   ],
   "source": [
    "#Cria uma variável res (de resposta) que procura as tabelas no banco de dados e retorna a primeira que achar\n",
    "res = cur.execute(\"SELECT name FROM sqlite_master\")\n",
    "res.fetchall()"
   ]
  },
  {
   "cell_type": "code",
   "execution_count": 8,
   "metadata": {},
   "outputs": [
    {
     "data": {
      "text/plain": [
       "[('Aula 1',), ('Aula 2',), ('Evento 1',), ('Evento 2',), ('Evento 3',)]"
      ]
     },
     "execution_count": 8,
     "metadata": {},
     "output_type": "execute_result"
    }
   ],
   "source": [
    "dados_aulas = [\n",
    "    (\"Evento 1\", '03/03/2003', 250),\n",
    "    (\"Evento 2\", '03/03/2003', 250),\n",
    "    (\"Evento 3\", '03/03/2003', 250)\n",
    "]\n",
    "\n",
    "cur.executemany(\"INSERT INTO aulas (titulo, data, duracao) VALUES (?, ?, ?)\", dados_aulas)\n",
    "\n",
    "con.commit()\n",
    "\n",
    "res = cur.execute(\"SELECT titulo FROM aulas\")\n",
    "res.fetchall()"
   ]
  },
  {
   "cell_type": "code",
   "execution_count": 10,
   "metadata": {},
   "outputs": [
    {
     "name": "stdout",
     "output_type": "stream",
     "text": [
      "(50, 'Aula 1')\n",
      "(100, 'Aula 2')\n",
      "(250, 'Evento 1')\n",
      "(250, 'Evento 2')\n",
      "(250, 'Evento 3')\n"
     ]
    }
   ],
   "source": [
    "# Outra forma de verificar os dados inseridos:\n",
    "\n",
    "for l in cur.execute(\"\"\"SELECT duracao, titulo \n",
    "                     FROM aulas \n",
    "                     ORDER BY duracao\"\"\"):\n",
    "    print(l)"
   ]
  },
  {
   "cell_type": "markdown",
   "metadata": {},
   "source": []
  },
  {
   "cell_type": "code",
   "execution_count": 12,
   "metadata": {},
   "outputs": [
    {
     "name": "stdout",
     "output_type": "stream",
     "text": [
      "('Professor 1', 1)\n",
      "('Professor 1', 11)\n",
      "('Professor 1', 21)\n"
     ]
    }
   ],
   "source": [
    "try:\n",
    "    with con:\n",
    "        for i in range(10):\n",
    "            cur.execute(\"\"\"\n",
    "                INSERT INTO professor (nm_professor) VALUES ('Professor {}');\n",
    "                \"\"\".format(i+1))\n",
    "except sqlite3.ProgrammingError as e:\n",
    "    print(\"Deu ruim: \", e)\n",
    "\n",
    "#con.commit()\n",
    "\n",
    "for l in cur.execute(\"\"\"SELECT \n",
    "                     nm_professor, id_professor \n",
    "                     FROM professor \n",
    "                     WHERE nm_professor='Professor 1' \n",
    "                     ORDER BY id_professor\"\"\"):\n",
    "    print(l)"
   ]
  },
  {
   "cell_type": "code",
   "execution_count": 13,
   "metadata": {},
   "outputs": [],
   "source": [
    "con.close()"
   ]
  }
 ],
 "metadata": {
  "kernelspec": {
   "display_name": "base",
   "language": "python",
   "name": "python3"
  },
  "language_info": {
   "codemirror_mode": {
    "name": "ipython",
    "version": 3
   },
   "file_extension": ".py",
   "mimetype": "text/x-python",
   "name": "python",
   "nbconvert_exporter": "python",
   "pygments_lexer": "ipython3",
   "version": "3.12.4"
  }
 },
 "nbformat": 4,
 "nbformat_minor": 2
}
