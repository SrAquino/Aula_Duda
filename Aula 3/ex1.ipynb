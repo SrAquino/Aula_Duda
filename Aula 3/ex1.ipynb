{
 "cells": [
  {
   "cell_type": "markdown",
   "metadata": {},
   "source": [
    "> #### Sintaxe de Slicing:\n",
    "> sequencia[inicio:fim:passo]\n",
    "\n",
    "> inicio: O índice onde a fatia começa (inclusivo).<br>\n",
    "> fim: O índice onde a fatia termina (exclusivo).<br>\n",
    "> passo: O intervalo entre os índices selecionados (opcional).<br>"
   ]
  },
  {
   "cell_type": "code",
   "execution_count": 15,
   "metadata": {},
   "outputs": [
    {
     "name": "stdout",
     "output_type": "stream",
     "text": [
      "Manip\n",
      "Manipulação\n",
      "Strings\n"
     ]
    }
   ],
   "source": [
    "texto = \"Manipulação de Strings\"\n",
    "fatia = texto[0:5]\n",
    "print(fatia)\n",
    "\n",
    "# Omitindo o índice inicial:\n",
    "print(texto[:11])  # Do início até o índice 10\n",
    "\n",
    "#Omitindo o índice final:\n",
    "print(texto[15:])  # Do índice 15 até o final\n"
   ]
  },
  {
   "cell_type": "code",
   "execution_count": 18,
   "metadata": {},
   "outputs": [
    {
     "name": "stdout",
     "output_type": "stream",
     "text": [
      "Mnplçod tig\n",
      "sgnirtS ed oãçalupinaM\n",
      "Strings\n"
     ]
    }
   ],
   "source": [
    "# Usando Passo (Step)\n",
    "print(texto[::2])  # Passo 2\n",
    "\n",
    "print(texto[::-1])  # Inverte a string\n",
    "\n",
    "# Python suporta índices negativos, que começam a contagem do final da sequência.\n",
    "print(texto[-7:])  # Últimos 7 caracteres\n",
    "\n",
    "\n"
   ]
  },
  {
   "cell_type": "code",
   "execution_count": 19,
   "metadata": {},
   "outputs": [
    {
     "name": "stdout",
     "output_type": "stream",
     "text": [
      "Python é incrível!\n"
     ]
    }
   ],
   "source": [
    "primeira_parte = \"Python \"\n",
    "segunda_parte = \"é incrível!\"\n",
    "resultado = primeira_parte + segunda_parte\n",
    "print(resultado)\n"
   ]
  },
  {
   "cell_type": "code",
   "execution_count": 22,
   "metadata": {},
   "outputs": [
    {
     "name": "stdout",
     "output_type": "stream",
     "text": [
      "Meu nome é João e eu tenho 30 anos.\n"
     ]
    }
   ],
   "source": [
    "nome = \"João\"\n",
    "idade = 30\n",
    "mensagem = \"Meu nome é \" + nome + \" e eu tenho \" + str(idade) + \" anos.\"\n",
    "#mensagem = \"Meu nome é \" + nome + \" e eu tenho \" + idade + \" anos.\"\n",
    "print(mensagem)\n"
   ]
  },
  {
   "cell_type": "code",
   "execution_count": 23,
   "metadata": {},
   "outputs": [
    {
     "name": "stdout",
     "output_type": "stream",
     "text": [
      "Python é muito legal\n"
     ]
    }
   ],
   "source": [
    "palavras = [\"Python\", \"é\", \"muito\", \"legal\"]\n",
    "frase = \"\"\n",
    "for palavra in palavras:\n",
    "    frase += palavra + \" \"\n",
    "print(frase.strip())  # strip() remove o espaço extra no final\n"
   ]
  },
  {
   "cell_type": "code",
   "execution_count": 12,
   "metadata": {},
   "outputs": [
    {
     "name": "stdout",
     "output_type": "stream",
     "text": [
      "Texto em maiúsculas: ANÁLISE DE DADOS EM PYTHON\n"
     ]
    }
   ],
   "source": [
    "texto = \"Análise de dados em Python\"\n",
    "print(f\"Texto em maiúsculas: {texto.upper()}\")\n"
   ]
  },
  {
   "cell_type": "code",
   "execution_count": 2,
   "metadata": {},
   "outputs": [
    {
     "name": "stdout",
     "output_type": "stream",
     "text": [
      "Tamanho da string: 26\n"
     ]
    }
   ],
   "source": [
    "texto = \"Análise de dados em Python\"\n",
    "tamanho = len(texto)\n",
    "print(f\"Tamanho da string: {tamanho}\")\n"
   ]
  },
  {
   "cell_type": "code",
   "execution_count": 11,
   "metadata": {},
   "outputs": [
    {
     "name": "stdout",
     "output_type": "stream",
     "text": [
      "['Python', 'é', 'uma', 'linguagem', 'poderosa']\n",
      "Primeira palavra: Python\n"
     ]
    }
   ],
   "source": [
    "frase = \"Python é uma linguagem poderosa\"\n",
    "palavras = frase.split()\n",
    "print(palavras)\n",
    "\n",
    "print(f\"Primeira palavra: {frase.split()[0]}\")\n"
   ]
  },
  {
   "cell_type": "code",
   "execution_count": 4,
   "metadata": {},
   "outputs": [
    {
     "name": "stdout",
     "output_type": "stream",
     "text": [
      "Python é incrível\n"
     ]
    }
   ],
   "source": [
    "lista_palavras = ['Python', 'é', 'incrível']\n",
    "frase = \" \".join(lista_palavras)\n",
    "print(frase)\n"
   ]
  },
  {
   "cell_type": "code",
   "execution_count": 5,
   "metadata": {},
   "outputs": [
    {
     "name": "stdout",
     "output_type": "stream",
     "text": [
      "Eu gosto de Python\n"
     ]
    }
   ],
   "source": [
    "texto = \"Eu gosto de Java\"\n",
    "novo_texto = texto.replace(\"Java\", \"Python\")\n",
    "print(novo_texto)\n"
   ]
  },
  {
   "cell_type": "code",
   "execution_count": 6,
   "metadata": {},
   "outputs": [
    {
     "name": "stdout",
     "output_type": "stream",
     "text": [
      "Índice da palavra 'Python': 15\n"
     ]
    }
   ],
   "source": [
    "frase = \"Programação em Python\"\n",
    "indice = frase.find(\"Python\")\n",
    "print(f\"Índice da palavra 'Python': {indice}\")\n"
   ]
  },
  {
   "cell_type": "code",
   "execution_count": 9,
   "metadata": {},
   "outputs": [
    {
     "name": "stdout",
     "output_type": "stream",
     "text": [
      "'  Espaços extras  '\n",
      "'Espaços extras'\n"
     ]
    }
   ],
   "source": [
    "texto = \"  Espaços extras  \"\n",
    "print(f\"'{texto}'\")\n",
    "limpo = texto.strip()\n",
    "print(f\"'{limpo}'\")\n"
   ]
  },
  {
   "cell_type": "markdown",
   "metadata": {},
   "source": [
    "> #### O f no início de uma string em Python indica que ela é uma f-string (ou formatted string). As f-strings permitem inserir expressões ou variáveis diretamente dentro da string de forma mais clara e eficiente."
   ]
  },
  {
   "cell_type": "code",
   "execution_count": 10,
   "metadata": {},
   "outputs": [
    {
     "name": "stdout",
     "output_type": "stream",
     "text": [
      "Meu nome é João e eu tenho 25 anos.\n",
      "Meu nome é João e eu tenho 25 anos.\n",
      "Meu nome é João e eu tenho 25 anos.\n"
     ]
    }
   ],
   "source": [
    "nome = \"João\"\n",
    "idade = 25\n",
    "print(f\"Meu nome é {nome} e eu tenho {idade} anos.\")\n",
    "\n",
    "#Comparando:\n",
    "\n",
    "print(\"Meu nome é %s e eu tenho %d anos.\" % (nome, idade))\n",
    "\n",
    "print(\"Meu nome é {} e eu tenho {} anos.\".format(nome, idade))\n"
   ]
  },
  {
   "cell_type": "markdown",
   "metadata": {},
   "source": [
    "> #### Sintaxe básica do comando open():\n",
    "\n",
    "```python\n",
    "open(arquivo, modo='r', buffering=-1, encoding=None, errors=None, newline=None, closefd=True, opener=None)\n",
    "\n",
    "```\n",
    "> file (obrigatório):<br>\n",
    "> O nome (ou caminho) do arquivo a ser aberto.\n",
    "\n",
    "> mode (opcional, padrão: 'r'):<br>\n",
    "> Define o modo de abertura do arquivo, ou seja, como o arquivo será manipulado (leitura, escrita, etc.).<br>\n",
    "> 'r': Abre para leitura (erro se o arquivo não existir).<br>\n",
    "> 'w': Abre para escrita (cria um arquivo novo ou sobrescreve se já existir).<br>\n",
    "> 'a': Abre para escrita no final do arquivo sem truncá-lo (modo de anexar).<br>\n",
    "> 'x': Cria um novo arquivo para escrita (erro se o arquivo já existir).<br>\n",
    "> 'b': Modo binário (usa junto com outros modos, por exemplo, 'rb', 'wb').<br>\n",
    "> 't': Modo texto (padrão, por isso não precisa ser especificado).<br>\n",
    "> '+': Abre para leitura e escrita simultâneas (usado com 'r+', 'w+', 'a+').<br>\n"
   ]
  },
  {
   "cell_type": "code",
   "execution_count": 27,
   "metadata": {},
   "outputs": [
    {
     "name": "stdout",
     "output_type": "stream",
     "text": [
      "João, 45, Masculino\n",
      "Maria, 38, Feminino\n",
      "\n",
      "João, 45, \n"
     ]
    }
   ],
   "source": [
    "with open('dados.txt', 'r') as arquivo:\n",
    "    conteudo = arquivo.read()\n",
    "    print(conteudo)\n",
    "\n",
    "# Você pode passar um valor numérico como argumento para read(), que limita a quantidade de caracteres lidos\n",
    "with open('dados.txt', 'r') as arquivo:\n",
    "    conteudo = arquivo.read(10)  # Lê apenas os primeiros 100 caracteres\n",
    "    print(conteudo)\n",
    "\n"
   ]
  },
  {
   "cell_type": "markdown",
   "metadata": {},
   "source": [
    "> #### o with ao abrir arquivos em Python é uma prática recomendada para garantir que os arquivos sejam corretamente gerenciados, especialmente no que diz respeito ao fechamento do arquivo após sua manipulação.\n",
    "\n",
    "> Sem usar o with: \n",
    "\n",
    "```python\n",
    "arquivo = open('arquivo.txt', 'r')\n",
    "try:\n",
    "    conteudo = arquivo.read()\n",
    "    print(conteudo)\n",
    "finally:\n",
    "    arquivo.close()\n",
    "\n",
    "```"
   ]
  },
  {
   "cell_type": "code",
   "execution_count": 30,
   "metadata": {},
   "outputs": [
    {
     "name": "stdout",
     "output_type": "stream",
     "text": [
      "João, 45, Masculino\n",
      "\n",
      "Maria, 38, Feminino\n",
      "\n"
     ]
    }
   ],
   "source": [
    "# O método readline() lê uma linha de cada vez do arquivo. \n",
    "\n",
    "with open('dados.txt', 'r') as arquivo:\n",
    "    linha = arquivo.readline()\n",
    "    print(linha)  # Lê e imprime a primeira linha do arquivo\n",
    "\n",
    "# Se você chamar readline() várias vezes, ele continua lendo as próximas linhas do arquivo.\n",
    "    linha2 = arquivo.readline()\n",
    "    print(linha2)  # Lê e imprime a primeira linha do arquivo\n",
    "\n",
    "\n"
   ]
  },
  {
   "cell_type": "code",
   "execution_count": 31,
   "metadata": {},
   "outputs": [
    {
     "name": "stdout",
     "output_type": "stream",
     "text": [
      "['João, 45, Masculino\\n', 'Maria, 38, Feminino\\n']\n"
     ]
    }
   ],
   "source": [
    "with open('dados.txt', 'r') as arquivo:\n",
    "    linhas = arquivo.readlines()\n",
    "    print(linhas)  # Cada linha do arquivo será um item da lista\n"
   ]
  },
  {
   "cell_type": "code",
   "execution_count": 32,
   "metadata": {},
   "outputs": [
    {
     "name": "stdout",
     "output_type": "stream",
     "text": [
      "João, 45, Masculino\n",
      "Maria, 38, Feminino\n"
     ]
    }
   ],
   "source": [
    "for linha in linhas:\n",
    "        print(linha.strip())  # strip() remove o caractere '\\n'"
   ]
  },
  {
   "cell_type": "code",
   "execution_count": 25,
   "metadata": {},
   "outputs": [
    {
     "name": "stdout",
     "output_type": "stream",
     "text": [
      "Nome: João, Idade: 45, Gênero:  Masculino\n",
      "Nome: Maria, Idade: 38, Gênero:  Feminino\n"
     ]
    }
   ],
   "source": [
    "with open('dados.txt', 'r') as arquivo:\n",
    "    for linha in arquivo:\n",
    "        dados = linha.strip().split(',')\n",
    "        nome = dados[0]\n",
    "        idade = int(dados[1])\n",
    "        genero = dados[2]\n",
    "        print(f\"Nome: {nome}, Idade: {idade}, Gênero: {genero}\")\n"
   ]
  }
 ],
 "metadata": {
  "kernelspec": {
   "display_name": "base",
   "language": "python",
   "name": "python3"
  },
  "language_info": {
   "codemirror_mode": {
    "name": "ipython",
    "version": 3
   },
   "file_extension": ".py",
   "mimetype": "text/x-python",
   "name": "python",
   "nbconvert_exporter": "python",
   "pygments_lexer": "ipython3",
   "version": "3.12.4"
  }
 },
 "nbformat": 4,
 "nbformat_minor": 2
}
